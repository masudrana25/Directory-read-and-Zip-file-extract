{
 "cells": [
  {
   "cell_type": "code",
   "execution_count": 1,
   "metadata": {},
   "outputs": [],
   "source": [
    "import os\n",
    "import pandas as pd"
   ]
  },
  {
   "cell_type": "code",
   "execution_count": 2,
   "metadata": {},
   "outputs": [],
   "source": [
    "# Define the directory path where your Excel files are located\n",
    "directory = 'New folder/'\n",
    "fileList = os.listdir('New folder/')"
   ]
  },
  {
   "cell_type": "code",
   "execution_count": 6,
   "metadata": {},
   "outputs": [
    {
     "name": "stdout",
     "output_type": "stream",
     "text": [
      "   roll     name\n",
      "0     1  Ab Alim\n",
      "1     2   Masud \n",
      "2     3   Sabbir\n",
      "3     4  Ibrahim\n",
      "\n",
      "column_sum 10\n",
      "\n",
      "   roll   name\n",
      "0     5   abir\n",
      "1     6  jabil\n",
      "2     7  kabil\n",
      "3     8  karim\n",
      "\n",
      "column_sum 26\n",
      "\n",
      "   roll     name\n",
      "0     9    kamal\n",
      "1    10    jamal\n",
      "2    11   jobdul\n",
      "3    12  khairul\n",
      "\n",
      "column_sum 42\n",
      "\n"
     ]
    }
   ],
   "source": [
    "for i in fileList:\n",
    "    # Check if the file is an Excel file (ending with .xlsx or .xls)\n",
    "    if i.endswith('.xlsx') or i.endswith('.xls'):\n",
    "        # Construct the full path of the file\n",
    "        file_path = os.path.join(directory, i)\n",
    "\n",
    "        # Read the Excel file into a pandas DataFrame\n",
    "        df = pd.read_excel(file_path)\n",
    "\n",
    "        # Perform some operation on the DataFrame\n",
    "            # Example: Calculating the sum of a specific column\n",
    "            # (Replace 'column_name' with an actual column name in your file)\n",
    "        print(df)\n",
    "        print()\n",
    "\n",
    "        column_sum = df['roll'].sum()\n",
    "        print('column_sum', column_sum)\n",
    "        print()\n",
    "\n",
    "        # Print or return the result (or store it for later use)\n",
    "        # print(f'File: {i}, Sum of column \"column_name\": {column_sum}')"
   ]
  },
  {
   "cell_type": "code",
   "execution_count": null,
   "metadata": {},
   "outputs": [],
   "source": []
  }
 ],
 "metadata": {
  "kernelspec": {
   "display_name": "Python 3",
   "language": "python",
   "name": "python3"
  },
  "language_info": {
   "codemirror_mode": {
    "name": "ipython",
    "version": 3
   },
   "file_extension": ".py",
   "mimetype": "text/x-python",
   "name": "python",
   "nbconvert_exporter": "python",
   "pygments_lexer": "ipython3",
   "version": "3.11.9"
  }
 },
 "nbformat": 4,
 "nbformat_minor": 2
}
